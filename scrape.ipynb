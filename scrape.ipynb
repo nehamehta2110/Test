{
 "cells": [
  {
   "cell_type": "code",
   "execution_count": 2,
   "metadata": {},
   "outputs": [],
   "source": [
    "import pandas as pd\n",
    "import requests\n",
    "from bs4 import BeautifulSoup\n",
    "from textblob import TextBlob\n",
    "\n",
    "ds=pd.read_excel(\"./Sample_websites.xlsx\")\n",
    "s=[]\n",
    "f=[]\n",
    "g=[]\n",
    "t=[]\n",
    "s=ds['homepage'].values\n",
    "for i in s:\n",
    "    url = i\n",
    "    print(url)\n",
    "    try:\n",
    "        page = requests.get(url,cookies= {'googletrans': '/es/en'})        \n",
    "        html_code = page.content        \n",
    "    except Exception as e:\n",
    "        print(e)\n",
    "    try:\n",
    "        soup = BeautifulSoup(html_code,'html.parser')\n",
    "        try:\n",
    "            meta=soup.find('meta',attrs={\"name\":\"description\"})   \n",
    "    #         print(meta.attrs['content'])\n",
    "            blob = TextBlob(meta.attrs['content'])\n",
    "            Englishstr = blob.translate(to=\"EN\")\n",
    "            print(Englishstr)\n",
    "            f.append(Englishstr)\n",
    "            title = soup.select('head title')\n",
    "            title = [t.text for t in title]\n",
    "            title = ' '.join(title)\n",
    "#             print(title)\n",
    "            blob1 = TextBlob(title)\n",
    "            Englishstr1 = blob1.translate(to=\"EN\")\n",
    "            print(Englishstr1)\n",
    "            g.append(Englishstr1)\n",
    "        except:\n",
    "            f.append(\"\")\n",
    "            title = soup.select('head title')\n",
    "            title = [t.text for t in title]\n",
    "            title = ' '.join(title)\n",
    "#             print(title)\n",
    "            blob1 = TextBlob(title)\n",
    "            Englishstr1 = blob1.translate(to=\"EN\")\n",
    "            print(Englishstr1)\n",
    "            g.append(Englishstr1)\n",
    "    except Exception as e:\n",
    "        print(e)\n",
    "        f.append(\"\")\n",
    "        g.append(\"\")\n",
    "#         f.append(\"\")\n",
    "\n",
    "#     print(title)\n",
    "for i in range(f):\n",
    "    if \"service\" in f[i] or \"service\" in g[i]:\n",
    "        t[i]=\"authorised car service\"\n",
    "    elif \"tyre\" in f[i] or \"tyre\" in g[i]:\n",
    "        t[i]=\"tyre service\"\n",
    "    elif (\"glass\" or \"stone\") in f[i] or (\"glass\" or \"stone\")  in g[i]:\n",
    "        t[i]=\"glass service\"\n",
    "    elif (\"body\" or \"paint\")  in f[i] or  (\"body\" or \"paint\")  in g[i]:\n",
    "        t[i]=\"body and paint service\"\n",
    "    else:\n",
    "        t[i]=\"independent car service\"\n",
    "df = pd.DataFrame(list(zip(s, t)), \n",
    "       columns =['url', 'target_groups'])"
   ]
  },
  {
   "cell_type": "code",
   "execution_count": 4,
   "metadata": {},
   "outputs": [],
   "source": [
    "df.toexcel('new.xlsv')"
   ]
  },
  {
   "cell_type": "code",
   "execution_count": null,
   "metadata": {},
   "outputs": [],
   "source": [
    "#Could not complete the classification part due to time limitation"
   ]
  },
  {
   "cell_type": "code",
   "execution_count": null,
   "metadata": {},
   "outputs": [],
   "source": []
  },
  {
   "cell_type": "code",
   "execution_count": null,
   "metadata": {},
   "outputs": [],
   "source": []
  }
 ],
 "metadata": {
  "kernelspec": {
   "display_name": "Python 3",
   "language": "python",
   "name": "python3"
  },
  "language_info": {
   "codemirror_mode": {
    "name": "ipython",
    "version": 3
   },
   "file_extension": ".py",
   "mimetype": "text/x-python",
   "name": "python",
   "nbconvert_exporter": "python",
   "pygments_lexer": "ipython3",
   "version": "3.7.3"
  }
 },
 "nbformat": 4,
 "nbformat_minor": 2
}
